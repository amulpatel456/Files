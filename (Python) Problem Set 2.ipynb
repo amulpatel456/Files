{
 "cells": [
  {
   "cell_type": "markdown",
   "id": "63b90923",
   "metadata": {},
   "source": [
    "# Question 1"
   ]
  },
  {
   "cell_type": "code",
   "execution_count": 7,
   "id": "77e3194b",
   "metadata": {},
   "outputs": [],
   "source": [
    "a = 0\n",
    "def b():\n",
    " global a\n",
    " a = c(a)\n",
    "def c(a):\n",
    " return a + 2"
   ]
  },
  {
   "cell_type": "code",
   "execution_count": 8,
   "id": "0608a10d",
   "metadata": {},
   "outputs": [
    {
     "data": {
      "text/plain": [
       "6"
      ]
     },
     "execution_count": 8,
     "metadata": {},
     "output_type": "execute_result"
    }
   ],
   "source": [
    "b()\n",
    "b()\n",
    "b()\n",
    "a"
   ]
  },
  {
   "cell_type": "raw",
   "id": "477c7b87",
   "metadata": {},
   "source": [
    "#Explaination :-\n",
    "\n",
    "EveryTime 2 is added.\n",
    "b() => a is 0 + 2 = 2 \n",
    "b() => a is 2 + 2 = 4\n",
    "b() => a is 4 + 2 = 6\n",
    "\n",
    "Finally, a is 6"
   ]
  },
  {
   "cell_type": "markdown",
   "id": "e244a0b7",
   "metadata": {},
   "source": [
    "# Question 2"
   ]
  },
  {
   "cell_type": "code",
   "execution_count": 9,
   "id": "771fc5e0",
   "metadata": {},
   "outputs": [],
   "source": [
    "import os\n",
    "\n",
    "#Here, I create function 'filelength' as mentioned in question\n",
    "def fileLength(filename):\n",
    "\n",
    "  try:\n",
    "#here, it count total length of file    \n",
    "    length = os.path.getsize(filename)\n",
    "\n",
    "    print (length)\n",
    "    \n",
    "#filenotfounderror exception  \n",
    "  except FileNotFoundError:\n",
    "#Error message\n",
    "    print(\"File \",str(filename),\"is not found\")\n",
    "\n"
   ]
  },
  {
   "cell_type": "code",
   "execution_count": 10,
   "id": "deffcb8c",
   "metadata": {},
   "outputs": [
    {
     "name": "stdout",
     "output_type": "stream",
     "text": [
      "127\n"
     ]
    }
   ],
   "source": [
    "fileLength('Filelength.txt')\n",
    "\n"
   ]
  },
  {
   "cell_type": "code",
   "execution_count": 11,
   "id": "3046dc6d",
   "metadata": {},
   "outputs": [
    {
     "name": "stdout",
     "output_type": "stream",
     "text": [
      "File  idterm.py is not found\n"
     ]
    }
   ],
   "source": [
    "fileLength('idterm.py')"
   ]
  },
  {
   "cell_type": "markdown",
   "id": "aa959a0c",
   "metadata": {},
   "source": [
    "# Question 3"
   ]
  },
  {
   "cell_type": "code",
   "execution_count": 12,
   "id": "b482380a",
   "metadata": {},
   "outputs": [],
   "source": [
    "#Here I created class as mentioned in the question which is main class\n",
    "\n",
    "class Marsupial:\n",
    "    \n",
    "#Here I created Constructor for main class\n",
    "    def __init__(self):\n",
    "        self.list = []\n",
    "\n",
    "#Here I create main function  \"put_in_pouch\" for main class\n",
    "    def put_in_pouch(self, item):\n",
    "        self.list.append(item)\n",
    "\n",
    "#Here I create function for Return List\n",
    "    def pouch_contents(self):\n",
    "        return self.list\n",
    "\n",
    "#Here I create Class kangaroo as subclass of Mursupial\n",
    "class Kangaroo(Marsupial):\n",
    "    \n",
    "#Here I create Constructor for  to take, as input, the coordinates x and y of the Kangaroo object\n",
    "    def __init__(self,x,y):\n",
    "        Marsupial.__init__(self)\n",
    "        self.x = x\n",
    "        self.y = y\n",
    "\n",
    "#It is support method \"Jump\" which takes number values dx and dy as input and moves the kangaroo by dx units along the x-axis and by dy units along the yaxis\n",
    "    def jump(self,dx,dy):\n",
    "        self.x += dx\n",
    "        self.y += dy\n",
    "\n",
    "#It is overloads method \"Str\" which behaves accordng to user.\n",
    "    def __str__(self):\n",
    "        return 'I am a Kangaroo located at coordinates ({},{})'.format(self.x,self.y)\n",
    "\n",
    "\n"
   ]
  },
  {
   "cell_type": "code",
   "execution_count": 13,
   "id": "ac0394d3",
   "metadata": {},
   "outputs": [
    {
     "name": "stdout",
     "output_type": "stream",
     "text": [
      "I am a Kangaroo located at coordinates (0,0)\n"
     ]
    }
   ],
   "source": [
    "K = Kangaroo(0,0)\n",
    "print(K)"
   ]
  },
  {
   "cell_type": "code",
   "execution_count": 14,
   "id": "82c3fbff",
   "metadata": {},
   "outputs": [
    {
     "name": "stdout",
     "output_type": "stream",
     "text": [
      "['doll', 'firetruck', 'kitten']\n"
     ]
    }
   ],
   "source": [
    "K.put_in_pouch('doll')\n",
    "K.put_in_pouch('firetruck')\n",
    "K.put_in_pouch('kitten')\n",
    "print(K.pouch_contents())\n",
    " "
   ]
  },
  {
   "cell_type": "code",
   "execution_count": 15,
   "id": "24951fd3",
   "metadata": {},
   "outputs": [
    {
     "name": "stdout",
     "output_type": "stream",
     "text": [
      "I am a Kangaroo located at coordinates (3,0)\n"
     ]
    }
   ],
   "source": [
    "K.jump(1,0)\n",
    "K.jump(1,0)\n",
    "K.jump(1,0)\n",
    "print(K)"
   ]
  },
  {
   "cell_type": "markdown",
   "id": "46105adc",
   "metadata": {},
   "source": [
    "# Question 4\n"
   ]
  },
  {
   "cell_type": "code",
   "execution_count": 16,
   "id": "2e36a5b6",
   "metadata": {},
   "outputs": [],
   "source": [
    "#Here I create 'collatz' funcion which takes x asinput from user\n",
    "def collatz(x):\n",
    "\n",
    "#Here it print value of x\n",
    "    print(x)\n",
    "#Here I used if elif else and also it is recursive \n",
    "    if x==1:\n",
    "        \n",
    "        return \n",
    "#for x is even    \n",
    "    elif x%2==0:\n",
    "        \n",
    "        return collatz(x/2) \n",
    "    else:\n",
    "#for x is odd\n",
    "        return collatz(3*x+1) \n",
    "       "
   ]
  },
  {
   "cell_type": "code",
   "execution_count": 17,
   "id": "5c1e355e",
   "metadata": {},
   "outputs": [
    {
     "name": "stdout",
     "output_type": "stream",
     "text": [
      "1\n"
     ]
    }
   ],
   "source": [
    " collatz(1)\n",
    "    "
   ]
  },
  {
   "cell_type": "code",
   "execution_count": 18,
   "id": "693df44f",
   "metadata": {},
   "outputs": [
    {
     "name": "stdout",
     "output_type": "stream",
     "text": [
      "10\n",
      "5.0\n",
      "16.0\n",
      "8.0\n",
      "4.0\n",
      "2.0\n",
      "1.0\n"
     ]
    }
   ],
   "source": [
    " collatz(10)"
   ]
  },
  {
   "cell_type": "markdown",
   "id": "ab697e83",
   "metadata": {},
   "source": [
    "# Question 5\n"
   ]
  },
  {
   "cell_type": "code",
   "execution_count": 19,
   "id": "3450bdb4",
   "metadata": {},
   "outputs": [],
   "source": [
    "#create binary funcion\n",
    "def binary(number):\n",
    "    if(number > 0):\n",
    "        binary(number//2)\n",
    "        print(number%2, end='')"
   ]
  },
  {
   "cell_type": "code",
   "execution_count": 20,
   "id": "be468c1f",
   "metadata": {},
   "outputs": [],
   "source": [
    "binary(0)"
   ]
  },
  {
   "cell_type": "code",
   "execution_count": 21,
   "id": "8ec654c2",
   "metadata": {},
   "outputs": [
    {
     "name": "stdout",
     "output_type": "stream",
     "text": [
      "1"
     ]
    }
   ],
   "source": [
    "binary(1)"
   ]
  },
  {
   "cell_type": "code",
   "execution_count": 22,
   "id": "f72787aa",
   "metadata": {},
   "outputs": [
    {
     "name": "stdout",
     "output_type": "stream",
     "text": [
      "11"
     ]
    }
   ],
   "source": [
    "binary(3)"
   ]
  },
  {
   "cell_type": "code",
   "execution_count": 23,
   "id": "ebd62c41",
   "metadata": {},
   "outputs": [
    {
     "name": "stdout",
     "output_type": "stream",
     "text": [
      "1001"
     ]
    }
   ],
   "source": [
    "binary(9)"
   ]
  },
  {
   "cell_type": "markdown",
   "id": "f3086c62",
   "metadata": {},
   "source": [
    "# Question 6"
   ]
  },
  {
   "cell_type": "code",
   "execution_count": 24,
   "id": "4b7b316e",
   "metadata": {},
   "outputs": [],
   "source": [
    "from urllib.parse import urljoin\n",
    "from html.parser import HTMLParser\n",
    "#Here, I create Headingparser class as mentioned in question\n",
    "class HeadingParser(HTMLParser):\n",
    "#create tags function when it gets heading tags  \n",
    "    def tags(self,tag,attrs):      \n",
    "        if tag == \"h1\":\n",
    "#as per the question, h1 heading have indentation 0\n",
    "            self.headerFlag = True\n",
    "            self.indent=0\n",
    "        elif tag == \"h2\":\n",
    "            self.headerFlag = True\n",
    "            self.indent=1\n",
    "        elif tag == \"h3\":\n",
    "            self.headerFlag = True\n",
    "            self.indent=2\n",
    "        elif tag == \"h4\":\n",
    "            self.headerFlag = True\n",
    "            self.indent=3\n",
    "        elif tag == \"h5\":\n",
    "            self.headerFlag = True\n",
    "            self.indent=4\n",
    "        elif tag == \"h6\":\n",
    "            self.headerFlag = True\n",
    "            self.indent=5\n",
    "        else:\n",
    "            self.headerFlag = False\n",
    "            self.indent=0\n",
    "#create tags2 function for reset all the headerflag     \n",
    "    def tags2(self,tag,attrs):\n",
    "        if tag in [\"h1\",\"h2\",\"h3\",\"h4\",\"h5\",\"h6\"]:\n",
    "            self.headerFlag = True\n",
    "\n",
    "#Test my implementation using w3c.html\n",
    "infile = open('w3c.html')\n",
    "content = infile.read()\n",
    "infile.close()\n",
    "hp = HeadingParser()\n",
    "hp.feed(content)"
   ]
  },
  {
   "cell_type": "markdown",
   "id": "ee680eea",
   "metadata": {},
   "source": [
    "# Question 7"
   ]
  },
  {
   "cell_type": "code",
   "execution_count": 25,
   "id": "213c4acd",
   "metadata": {},
   "outputs": [],
   "source": [
    "from urllib.request import urlopen\n",
    "from urllib.parse import urljoin\n",
    "\n",
    "from html.parser import HTMLParser\n",
    "\n",
    "def webdir(url):\n",
    "    # for testing \n",
    "    print('http://reed.cs.depaul.edu/lperkovic/csc242/test1.html', 2, 0, url)\n",
    "\n",
    "    #for obtain links in the web page\n",
    "    content = urlopen(url).read().decode()\n",
    "    collector = Collector(url)\n",
    "    collector.feed(content)\n",
    "    urls = collector.getLinks()          \n",
    "    # to get list of links\n",
    "\n",
    "    #to print the http links found in web page\n",
    "    print('\\n{:45} {:10}'.format('URL', 'link'))\n",
    "    for link in urls:\n",
    "        print('{:45} {:10}'.format(url, link))\n",
    "\n",
    "    return urls\n",
    "\n",
    "#reference:- Week 06 Lecture"
   ]
  },
  {
   "cell_type": "markdown",
   "id": "67504481",
   "metadata": {},
   "source": [
    "# Question 8\n",
    "\n",
    "Here, I give dataset table name as \"table\""
   ]
  },
  {
   "cell_type": "raw",
   "id": "7cc12b56",
   "metadata": {},
   "source": [
    "(A) \n",
    "\n",
    "SELECT Temperature()\n",
    "From table;\n",
    "\n",
    "(B)\n",
    "\n",
    "SELECT DISTINCT(City)\n",
    "FROM table;\n",
    "\n",
    "(C)\n",
    "\n",
    "SELECT*\n",
    "FROM table\n",
    "WHERE Country = \"India\";\n",
    "\n",
    "(D)\n",
    "\n",
    "SELECT*\n",
    "FROM table\n",
    "WHERE Season = \"Fall\";\n",
    "\n",
    "(E)\n",
    "\n",
    "SELET City,Country,Season\n",
    "FROM table\n",
    "WHERE AVG(Rainfall(mm)) between 200 and 400;\n",
    "\n",
    "(F)\n",
    "\n",
    "SELET City,Country,Season\n",
    "FROM table\n",
    "WHERE AVG(Temperature) > 20\n",
    "GROUP BY Season = \"Fall\";\n",
    "\n",
    "(G)\n",
    "\n",
    "SELECT SUM(Rainfall(mm))\n",
    "WHERE City = \"Cairo\";\n",
    "\n",
    "(H)\n",
    "\n",
    "SELECT SUM(Rainfall(mm)),Season\n",
    "FROM table\n",
    "GROUP BY(Season);"
   ]
  },
  {
   "cell_type": "markdown",
   "id": "6e7663d9",
   "metadata": {},
   "source": [
    "# Question 9"
   ]
  },
  {
   "cell_type": "code",
   "execution_count": 26,
   "id": "dbc8066d",
   "metadata": {},
   "outputs": [],
   "source": [
    "#List which is given is question\n",
    "words = ['The', 'quick', 'brown', 'fox', 'jumps', 'over', 'the', 'lazy', 'dog']"
   ]
  },
  {
   "cell_type": "code",
   "execution_count": 27,
   "id": "820a9264",
   "metadata": {},
   "outputs": [
    {
     "name": "stdout",
     "output_type": "stream",
     "text": [
      "['THE', 'QUICK', 'BROWN', 'FOX', 'JUMPS', 'OVER', 'THE', 'LAZY', 'DOG']\n"
     ]
    }
   ],
   "source": [
    "#List comprehension expressions \n",
    "print([x.upper() for x in words])"
   ]
  },
  {
   "cell_type": "code",
   "execution_count": 28,
   "id": "888c57a0",
   "metadata": {},
   "outputs": [
    {
     "name": "stdout",
     "output_type": "stream",
     "text": [
      "['the', 'quick', 'brown', 'fox', 'jumps', 'over', 'the', 'lazy', 'dog']\n"
     ]
    }
   ],
   "source": [
    "print([x.lower() for x in words])"
   ]
  },
  {
   "cell_type": "code",
   "execution_count": 29,
   "id": "047cbf7f",
   "metadata": {},
   "outputs": [
    {
     "name": "stdout",
     "output_type": "stream",
     "text": [
      "[3, 5, 5, 3, 5, 4, 3, 4, 3]\n"
     ]
    }
   ],
   "source": [
    "print([len(x) for x in words])"
   ]
  },
  {
   "cell_type": "code",
   "execution_count": 30,
   "id": "b76f13a2",
   "metadata": {},
   "outputs": [
    {
     "name": "stdout",
     "output_type": "stream",
     "text": [
      "[['THE', 'the', 3], ['QUICK', 'quick', 5], ['BROWN', 'brown', 5], ['FOX', 'fox', 3], ['JUMPS', 'jumps', 5], ['OVER', 'over', 4], ['THE', 'the', 3], ['LAZY', 'lazy', 4], ['DOG', 'dog', 3]]\n"
     ]
    }
   ],
   "source": [
    "print([[x.upper(),x.lower(),len(x)] for x in words] )"
   ]
  },
  {
   "cell_type": "code",
   "execution_count": 31,
   "id": "f51faf73",
   "metadata": {},
   "outputs": [
    {
     "name": "stdout",
     "output_type": "stream",
     "text": [
      "['quick', 'brown', 'jumps', 'over', 'lazy']\n"
     ]
    }
   ],
   "source": [
    "print([x.lower() for x in words if len(x)>=4])"
   ]
  }
 ],
 "metadata": {
  "kernelspec": {
   "display_name": "Python 3",
   "language": "python",
   "name": "python3"
  },
  "language_info": {
   "codemirror_mode": {
    "name": "ipython",
    "version": 3
   },
   "file_extension": ".py",
   "mimetype": "text/x-python",
   "name": "python",
   "nbconvert_exporter": "python",
   "pygments_lexer": "ipython3",
   "version": "3.8.8"
  }
 },
 "nbformat": 4,
 "nbformat_minor": 5
}
